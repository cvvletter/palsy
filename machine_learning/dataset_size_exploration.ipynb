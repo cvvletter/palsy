{
 "cells": [
  {
   "cell_type": "markdown",
   "metadata": {},
   "source": [
    "## Imports"
   ]
  },
  {
   "cell_type": "code",
   "execution_count": 12,
   "metadata": {},
   "outputs": [],
   "source": [
    "import numpy as np\n",
    "\n",
    "import matplotlib.pyplot as plt\n",
    "%matplotlib inline\n",
    "\n",
    "from sklearn.svm import SVC\n"
   ]
  },
  {
   "cell_type": "markdown",
   "metadata": {},
   "source": [
    "## Setup"
   ]
  },
  {
   "cell_type": "code",
   "execution_count": 13,
   "metadata": {},
   "outputs": [],
   "source": [
    "# set the random seed so that results are reproducible\n",
    "np.random.seed(42)\n",
    "\n",
    "# load all features and labels of the dataset\n",
    "features, labels = np.load('./features.npy'), np.load('./labels.npy')\n",
    "\n",
    "# remove the one broken data point\n",
    "features, labels = np.delete(features, 102, 0), np.delete(labels, 102, 0)\n",
    "\n",
    "# define lists for storing the discarded datapoints\n",
    "discarded_features = []\n",
    "discarded_labels = []\n",
    "\n",
    "# define emtpy lists for final plotting\n",
    "accuracy_svm = []\n",
    "sensitivity_svm = []\n",
    "accuracy_naivebayes = []\n",
    "sensitivity_naviebayes = []\n",
    "dataset_size = []\n",
    "\n",
    "# calculations for how many data points have to be removed each time\n",
    "count_classes = np.bincount(labels)\n",
    "periphl_scale = count_classes[0]/len(features)\n",
    "central_scale = count_classes[1]/len(features)\n",
    "healthy_scale = count_classes[2]/len(features)\n",
    "multiplier = 0.05*len(features)\n",
    "end_size = 0.2*len(features)\n"
   ]
  },
  {
   "cell_type": "markdown",
   "metadata": {},
   "source": [
    "## Definitions"
   ]
  },
  {
   "cell_type": "code",
   "execution_count": 14,
   "metadata": {},
   "outputs": [],
   "source": [
    "def dataset_cutter(features, labels, discarded_features, discarded_labels):\n",
    "    \"\"\"this funcion removes some entries for each class from the dataset, and adds these to a different array\"\"\"\n",
    "    count_classes = np.bincount(labels)\n",
    "    for i in range (int(round(periphl_scale*multiplier))): # remove some peripheral,\n",
    "        np.random.shuffle(features[0:count_classes[0]])\n",
    "        index = 0\n",
    "        discarded_features.append(features[index])\n",
    "        discarded_labels.append(labels[index])\n",
    "        features = np.delete(features, index, 0)\n",
    "        labels = np.delete(labels, index, 0)\n",
    "    for i in range (int(round(central_scale*multiplier))): # some central,\n",
    "        np.random.shuffle(features[count_classes[0]:(count_classes[0] + count_classes[1])])\n",
    "        index = 0+count_classes[0]\n",
    "        discarded_features.append(features[index])\n",
    "        discarded_labels.append(labels[index])\n",
    "        features = np.delete(features, index, 0)\n",
    "        labels = np.delete(labels, index, 0)\n",
    "    for i in range (int(round(healthy_scale*multiplier))): # and some healthy datapoints\n",
    "        np.random.shuffle(features[(count_classes[0] + count_classes[1]):((count_classes[0] + count_classes[1] + count_classes[2]))])\n",
    "        index = 0+count_classes[0]+count_classes[1]\n",
    "        discarded_features.append(features[index])\n",
    "        discarded_labels.append(labels[index])\n",
    "        features = np.delete(features, index, 0)\n",
    "        labels = np.delete(labels, index, 0)\n",
    "    # discarded_features = np.reshape(discarded_features, (len(discarded_features),-1))\n",
    "    # discarded_labels = np.reshape(discarded_labels, (len(discarded_labels)))\n",
    "    return features, labels, discarded_features, discarded_labels\n"
   ]
  },
  {
   "cell_type": "markdown",
   "metadata": {},
   "source": [
    "## Calculations"
   ]
  },
  {
   "cell_type": "code",
   "execution_count": 16,
   "metadata": {},
   "outputs": [],
   "source": [
    "# test accuracy and sensitivity untill the dataset is too small for functional testing\n",
    "while len(features) > end_size:\n",
    "    # print(\"Remaining number of each class [peripheral central healthy] in the training dataset:\",np.bincount(labels))\n",
    "\n",
    "    # calculate LOOCV accuracy for svm\n",
    "    correct = 0\n",
    "    n1 = len(features)\n",
    "    for i in range(n1):\n",
    "        x_test = features[i]\n",
    "        x_test = np.reshape(x_test, ([1,-1]))\n",
    "        y_test = labels[i]\n",
    "        x_train_loocv = np.delete(features, i, 0)\n",
    "        y_train_loocv = np.delete(labels, i, 0)\n",
    "        modelsvm = SVC(kernel='poly',degree=5,class_weight='balanced')\n",
    "        modelsvm.fit(x_train_loocv, y_train_loocv)\n",
    "        prediction = modelsvm.predict(x_test)\n",
    "        if (prediction == y_test):\n",
    "            correct += 1\n",
    "    accuracy1 = correct/n1\n",
    "\n",
    "    n2 = len(discarded_features)\n",
    "    accuracy2 = 0\n",
    "    if n2 > 0:\n",
    "        modelsvm = SVC(kernel='poly',degree=5,class_weight='balanced')\n",
    "        modelsvm.fit(features, labels)\n",
    "        accuracy2 = modelsvm.score(discarded_features, discarded_labels)\n",
    "\n",
    "    accuracy = n1/(n1+n2)*accuracy1 + n2/(n1+n2)*accuracy2\n",
    "\n",
    "    # print(\"accuracy1 =\", accuracy1, \"accuracy2=\", accuracy2)\n",
    "\n",
    "    # store accuracy...\n",
    "    accuracy_svm.append(accuracy)\n",
    "\n",
    "    # ...and dataset size\n",
    "    dataset_size.append(len(features))\n",
    "\n",
    "    if type(discarded_features) is not list:\n",
    "        discarded_features = discarded_features.tolist()\n",
    "    features, labels, discarded_features, discarded_labels = dataset_cutter(features, labels, discarded_features, discarded_labels)"
   ]
  },
  {
   "cell_type": "markdown",
   "metadata": {},
   "source": [
    "## Plots"
   ]
  },
  {
   "cell_type": "code",
   "execution_count": 17,
   "metadata": {},
   "outputs": [
    {
     "data": {
      "image/png": "[encoded data removed]",
      "text/plain": [
       "<Figure size 432x288 with 1 Axes>"
      ]
     },
     "metadata": {
      "needs_background": "light"
     },
     "output_type": "display_data"
    }
   ],
   "source": [
    "# calculate the polynomial of best fit of degree deg\n",
    "m, b = np.polyfit(dataset_size, accuracy_svm, deg=1)\n",
    "\n",
    "# plot accuracy to dataset size and also the line of best fit\n",
    "plt.plot(dataset_size, accuracy_svm, ls='solid', c='b')\n",
    "dataset_size = np.asarray(dataset_size)\n",
    "plt.plot(dataset_size, m*dataset_size+b, ls='dashed', c='c')\n",
    "plt.ylabel('Model accuracy')\n",
    "plt.xlabel('Dataset size')\n",
    "plt.show()"
   ]
  }
 ],
 "metadata": {
  "interpreter": {
   "hash": "916dbcbb3f70747c44a77c7bcd40155683ae19c65e1c03b4aa3499c5328201f1"
  },
  "kernelspec": {
   "display_name": "Python 3.8.10 64-bit",
   "language": "python",
   "name": "python3"
  },
  "language_info": {
   "codemirror_mode": {
    "name": "ipython",
    "version": 3
   },
   "file_extension": ".py",
   "mimetype": "text/x-python",
   "name": "python",
   "nbconvert_exporter": "python",
   "pygments_lexer": "ipython3",
   "version": "3.8.10"
  },
  "orig_nbformat": 4
 },
 "nbformat": 4,
 "nbformat_minor": 2
}
