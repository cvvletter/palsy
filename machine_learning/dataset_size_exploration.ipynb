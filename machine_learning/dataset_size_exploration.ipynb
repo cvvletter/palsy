{
 "cells": [
  {
   "cell_type": "markdown",
   "metadata": {},
   "source": [
    "## Imports"
   ]
  },
  {
   "cell_type": "code",
   "execution_count": 12,
   "metadata": {},
   "outputs": [],
   "source": [
    "import numpy as np\n",
    "\n",
    "import matplotlib.pyplot as plt\n",
    "%matplotlib inline\n",
    "plt.ioff()    # this stops the graphs from overwriting each other\n",
    "\n",
    "from sklearn.svm import SVC\n",
    "\n",
    "from sklearn.naive_bayes import GaussianNB\n"
   ]
  },
  {
   "cell_type": "markdown",
   "metadata": {},
   "source": [
    "## Setup"
   ]
  },
  {
   "cell_type": "code",
   "execution_count": 13,
   "metadata": {},
   "outputs": [],
   "source": [
    "# set the random seed so that results are reproducible\n",
    "np.random.seed(42)\n",
    "\n",
    "# load all features and labels of the dataset\n",
    "features, labels = np.load('./features.npy'), np.load('./labels.npy')\n",
    "\n",
    "# remove the one broken data point\n",
    "features_original, labels_original = np.delete(features, 102, 0), np.delete(labels, 102, 0)\n",
    "\n",
    "# calculations for how many data points have to be removed each time\n",
    "count_classes = np.bincount(labels)\n",
    "periphl_scale = count_classes[0]/len(features)\n",
    "central_scale = count_classes[1]/len(features)\n",
    "healthy_scale = count_classes[2]/len(features)\n",
    "multiplier = 0.05*len(features)\n",
    "end_size = 0.2*len(features)\n"
   ]
  },
  {
   "cell_type": "code",
   "execution_count": 14,
   "metadata": {},
   "outputs": [],
   "source": [
    "nochin_features = features_original[:, 34:] # remove the chin landmarks for the nochin dataset\n",
    "metrics_features = np.load('ratio_dataset.npy', allow_pickle=True) # load the metrics dataset...\n",
    "metrics_features = np.delete(metrics_features,9,1) # ... and remove the one broken metric"
   ]
  },
  {
   "cell_type": "markdown",
   "metadata": {},
   "source": [
    "## Definitions"
   ]
  },
  {
   "cell_type": "code",
   "execution_count": 20,
   "metadata": {},
   "outputs": [],
   "source": [
    "def dataset_cutter(features, labels, discarded_features, discarded_labels, ten_check):\n",
    "    \"\"\"this funcion removes some entries for each class from the dataset, and adds these to a different array\"\"\"\n",
    "    count_classes = np.bincount(labels)\n",
    "    if sum(ten_check) == 0:\n",
    "        ten_check = [5,2,3]\n",
    "    if not ten_check[0] == 0:\n",
    "        for i in range (int(round(periphl_scale**0))): # remove some peripheral,\n",
    "            np.random.shuffle(features[0:count_classes[0]])\n",
    "            index = 0\n",
    "            discarded_features.append(features[index])\n",
    "            discarded_labels.append(labels[index])\n",
    "            features = np.delete(features, index, 0)\n",
    "            labels = np.delete(labels, index, 0)\n",
    "            ten_check[0] = ten_check[0] - 1\n",
    "    elif not ten_check[1] == 0:\n",
    "        for i in range (int(round(central_scale**0))): # some central,\n",
    "            np.random.shuffle(features[count_classes[0]:(count_classes[0] + count_classes[1])])\n",
    "            index = 0+count_classes[0]\n",
    "            discarded_features.append(features[index])\n",
    "            discarded_labels.append(labels[index])\n",
    "            features = np.delete(features, index, 0)\n",
    "            labels = np.delete(labels, index, 0)\n",
    "            ten_check[1] = ten_check[1] - 1\n",
    "    else:\n",
    "        for i in range (int(round(healthy_scale**0))): # and some healthy datapoints\n",
    "            np.random.shuffle(features[(count_classes[0] + count_classes[1]):((count_classes[0] + count_classes[1] + count_classes[2]))])\n",
    "            index = 0+count_classes[0]+count_classes[1]\n",
    "            discarded_features.append(features[index])\n",
    "            discarded_labels.append(labels[index])\n",
    "            features = np.delete(features, index, 0)\n",
    "            labels = np.delete(labels, index, 0)\n",
    "            ten_check[2] = ten_check[2] - 1\n",
    "    # print(ten_check)\n",
    "    # discarded_features = np.reshape(discarded_features, (len(discarded_features),-1))\n",
    "    # discarded_labels = np.reshape(discarded_labels, (len(discarded_labels)))\n",
    "    return features, labels, discarded_features, discarded_labels, ten_check\n"
   ]
  },
  {
   "cell_type": "markdown",
   "metadata": {},
   "source": [
    "## Calculations"
   ]
  },
  {
   "cell_type": "markdown",
   "metadata": {},
   "source": [
    "### Support vector machine"
   ]
  },
  {
   "cell_type": "code",
   "execution_count": 26,
   "metadata": {},
   "outputs": [],
   "source": [
    "# define lists for storing the discarded datapoints\n",
    "discarded_features = []\n",
    "discarded_labels = []\n",
    "features = nochin_features.copy()\n",
    "labels = labels_original.copy()\n",
    "ten_check = [0,0,0]\n",
    "accuracy_svm = []\n",
    "sensitivity_svm = []\n",
    "dataset_size_svm = []\n",
    "\n",
    "# test accuracy and sensitivity untill the dataset is too small for functional testing\n",
    "while len(features) > end_size:\n",
    "    # print(\"Remaining number of each class [peripheral central healthy] in the training dataset:\",np.bincount(labels))\n",
    "\n",
    "    # SVM:\n",
    "    confusion_matrix = [[0,0,0], [0,0,0], [0,0,0]]\n",
    "\n",
    "    # calculate LOOCV accuracy for svm\n",
    "    n1 = len(features)\n",
    "    for i in range(n1):\n",
    "        x_test = features[i]\n",
    "        x_test = np.reshape(x_test, ([1,-1]))\n",
    "        y_test = labels[i]\n",
    "        x_train_loocv = np.delete(features, i, 0)\n",
    "        y_train_loocv = np.delete(labels, i, 0)\n",
    "        modelsvm = SVC(kernel='poly',degree=5,class_weight='balanced')\n",
    "        modelsvm.fit(x_train_loocv, y_train_loocv)\n",
    "        prediction = modelsvm.predict(x_test)\n",
    "        confusion_matrix[prediction[0]][y_test] += 1\n",
    "\n",
    "    n2 = len(discarded_features)\n",
    "    accuracy2 = 0\n",
    "    if n2 > 0:\n",
    "        modelsvm = SVC(kernel='poly',degree=5,class_weight='balanced')\n",
    "        modelsvm.fit(features, labels)\n",
    "        for i in range(n2):\n",
    "            prediction = modelsvm.predict(np.reshape(discarded_features[i], ([1,-1])))\n",
    "            confusion_matrix[prediction[0]][discarded_labels[i]]\n",
    "\n",
    "    c = confusion_matrix\n",
    "    accuracy = (c[0][0]+c[1][1]+c[2][2])/(sum(sum(c,[])))\n",
    "    sensitivity = c[1][1]/(c[0][1]+c[1][1]+c[2][1])\n",
    "\n",
    "    # store accuracy,...\n",
    "    accuracy_svm.append(accuracy)\n",
    "\n",
    "    # ...sensitivity,...\n",
    "    sensitivity_svm.append(sensitivity)\n",
    "    \n",
    "    # ...and dataset size\n",
    "    dataset_size_svm.append(len(features))\n",
    "\n",
    "    if type(discarded_features) is not list:\n",
    "        discarded_features = discarded_features.tolist()\n",
    "    features, labels, discarded_features, discarded_labels, ten_check = dataset_cutter(features, labels, discarded_features, discarded_labels, ten_check)"
   ]
  },
  {
   "cell_type": "markdown",
   "metadata": {},
   "source": [
    "### Gaussian naive Bayes"
   ]
  },
  {
   "cell_type": "code",
   "execution_count": 24,
   "metadata": {},
   "outputs": [],
   "source": [
    "# define lists for storing the discarded datapoints\n",
    "discarded_features = []\n",
    "discarded_labels = []\n",
    "features = metrics_features.copy()\n",
    "labels = labels_original.copy()\n",
    "ten_check = [0,0,0]\n",
    "accuracy_naivebayes = []\n",
    "sensitivity_naivebayes = []\n",
    "dataset_size_naivebayes = []\n",
    "\n",
    "# test accuracy and sensitivity untill the dataset is too small for functional testing\n",
    "while len(features) > end_size:\n",
    "    # print(\"Remaining number of each class [peripheral central healthy] in the training dataset:\",np.bincount(labels))\n",
    "\n",
    "    # Gaussian naive Bayes:\n",
    "    confusion_matrix = [[0,0,0], [0,0,0], [0,0,0]]\n",
    "\n",
    "    # calculate LOOCV accuracy for svm\n",
    "    n1 = len(features)\n",
    "    for i in range(n1):\n",
    "        x_test = features[i]\n",
    "        x_test = np.reshape(x_test, ([1,-1]))\n",
    "        y_test = labels[i]\n",
    "        x_train_loocv = np.delete(features, i, 0)\n",
    "        y_train_loocv = np.delete(labels, i, 0)\n",
    "        modelnb = GaussianNB()\n",
    "        modelnb.fit(x_train_loocv, y_train_loocv)\n",
    "        prediction = modelnb.predict(x_test)\n",
    "        confusion_matrix[prediction[0]][y_test] += 1\n",
    "\n",
    "    n2 = len(discarded_features)\n",
    "    accuracy2 = 0\n",
    "    if n2 > 0:\n",
    "        modelnb = GaussianNB()\n",
    "        modelnb.fit(features, labels)\n",
    "        for i in range(n2):\n",
    "            prediction = modelnb.predict(np.reshape(discarded_features[i], ([1,-1])))\n",
    "            confusion_matrix[prediction[0]][discarded_labels[i]]\n",
    "\n",
    "    c = confusion_matrix\n",
    "    accuracy = (c[0][0]+c[1][1]+c[2][2])/(sum(sum(c,[])))\n",
    "    sensitivity = c[1][1]/(c[0][1]+c[1][1]+c[2][1])\n",
    "\n",
    "    # store accuracy,...\n",
    "    accuracy_naivebayes.append(accuracy)\n",
    "\n",
    "    # ...sensitivity,...\n",
    "    sensitivity_naivebayes.append(sensitivity)\n",
    "    \n",
    "    # ...and dataset size\n",
    "    dataset_size_naivebayes.append(len(features))\n",
    "\n",
    "    if type(discarded_features) is not list:\n",
    "        discarded_features = discarded_features.tolist()\n",
    "    features, labels, discarded_features, discarded_labels, ten_check = dataset_cutter(features, labels, discarded_features, discarded_labels, ten_check)"
   ]
  },
  {
   "cell_type": "markdown",
   "metadata": {},
   "source": [
    "## Plots"
   ]
  },
  {
   "cell_type": "markdown",
   "metadata": {},
   "source": [
    "### Support vector machine"
   ]
  },
  {
   "cell_type": "code",
   "execution_count": 27,
   "metadata": {},
   "outputs": [
    {
     "data": {
      "image/png": "[encoded data removed]",
      "text/plain": [
       "<Figure size 432x288 with 1 Axes>"
      ]
     },
     "metadata": {
      "needs_background": "light"
     },
     "output_type": "display_data"
    }
   ],
   "source": [
    "# calculate the polynomial of best fit of degree deg\n",
    "m, b = np.polyfit(dataset_size_svm, accuracy_svm, deg=1)\n",
    "n, a = np.polyfit(dataset_size_svm, sensitivity_svm, deg=1)\n",
    "\n",
    "dataset_size_svm = np.asarray(dataset_size_svm)\n",
    "\n",
    "# plot accuracy to dataset size and also the line of best fit\n",
    "plt.plot(dataset_size_svm, accuracy_svm, ls='solid', c='b')\n",
    "plt.plot(dataset_size_svm, m*dataset_size_svm+b, ls='dashed', c='b')\n",
    "plt.plot(dataset_size_svm, sensitivity_svm, ls='solid', c='r')\n",
    "plt.plot(dataset_size_svm, n*dataset_size_svm+a, ls='dashed', c='r')\n",
    "plt.ylabel('Model accuracy')\n",
    "plt.xlabel('Dataset size')\n",
    "plt.show()\n",
    "plt.close()\n",
    "\n"
   ]
  },
  {
   "cell_type": "markdown",
   "metadata": {},
   "source": [
    "### Gaussian naive Bayes"
   ]
  },
  {
   "cell_type": "code",
   "execution_count": 25,
   "metadata": {},
   "outputs": [
    {
     "data": {
      "image/png": "[encoded data removed]",
      "text/plain": [
       "<Figure size 432x288 with 1 Axes>"
      ]
     },
     "metadata": {
      "needs_background": "light"
     },
     "output_type": "display_data"
    }
   ],
   "source": [
    "# calculate the polynomial of best fit of degree deg\n",
    "m, b = np.polyfit(dataset_size_naivebayes, accuracy_naivebayes, deg=1)\n",
    "n, a = np.polyfit(dataset_size_naivebayes, sensitivity_naivebayes, deg=1)\n",
    "\n",
    "dataset_size_naivebayes = np.asarray(dataset_size_naivebayes)\n",
    "\n",
    "# plot accuracy to dataset size and also the line of best fit\n",
    "plt.plot(dataset_size_naivebayes, accuracy_naivebayes, ls='solid', c='b')\n",
    "plt.plot(dataset_size_naivebayes, m*dataset_size_naivebayes+b, ls='dashed', c='b')\n",
    "plt.plot(dataset_size_naivebayes, sensitivity_naivebayes, ls='solid', c='r')\n",
    "plt.plot(dataset_size_naivebayes, n*dataset_size_naivebayes+a, ls='dashed', c='r')\n",
    "plt.ylabel('Model accuracy')\n",
    "plt.xlabel('Dataset size')\n",
    "plt.show()\n",
    "plt.close()\n"
   ]
  }
 ],
 "metadata": {
  "interpreter": {
   "hash": "916dbcbb3f70747c44a77c7bcd40155683ae19c65e1c03b4aa3499c5328201f1"
  },
  "kernelspec": {
   "display_name": "Python 3.8.10 64-bit",
   "language": "python",
   "name": "python3"
  },
  "language_info": {
   "codemirror_mode": {
    "name": "ipython",
    "version": 3
   },
   "file_extension": ".py",
   "mimetype": "text/x-python",
   "name": "python",
   "nbconvert_exporter": "python",
   "pygments_lexer": "ipython3",
   "version": "3.8.10"
  },
  "orig_nbformat": 4
 },
 "nbformat": 4,
 "nbformat_minor": 2
}
