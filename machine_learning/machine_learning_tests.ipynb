{
 "cells": [
  {
   "cell_type": "markdown",
   "source": [
    "# Machine learning tests are run here\n",
    "Some code blocks always have to be run, some can be skipped if only certain tests are of interest."
   ],
   "metadata": {}
  },
  {
   "cell_type": "markdown",
   "source": [
    "# Imports (mandatory)\n",
    "We start with importing the necessary packages."
   ],
   "metadata": {}
  },
  {
   "cell_type": "code",
   "execution_count": 3,
   "source": [
    "import numpy as np\n",
    "import tensorflow as tf"
   ],
   "outputs": [],
   "metadata": {}
  },
  {
   "cell_type": "markdown",
   "source": [
    "# Make the dataset (mandatory)\n",
    "Here, we make the dataset that we will use."
   ],
   "metadata": {}
  },
  {
   "cell_type": "code",
   "execution_count": 4,
   "source": [
    "# load the features\n",
    "dftrain = np.load('features.npy')\n",
    "# load the corresponding labels\n",
    "y_train = np.load('labels.npy')\n",
    "\n",
    "dftrain = dftrain / 900.0\n",
    "\n",
    "classes = ['peripheral palsy', 'central palsy', 'healthy']\n"
   ],
   "outputs": [],
   "metadata": {}
  },
  {
   "cell_type": "markdown",
   "source": [
    "# Print the dataset (optional)\n",
    "See the dataset that we're working with."
   ],
   "metadata": {}
  },
  {
   "cell_type": "code",
   "execution_count": 9,
   "source": [
    "# print(\"Features:\", dftrain[0])\n",
    "# print(\"Labels:\", classes[y_train[0]])\n",
    "print(\"Features shape:\",dftrain.shape)\n",
    "print(\"Labels shape:\",y_train.shape)"
   ],
   "outputs": [
    {
     "output_type": "stream",
     "name": "stdout",
     "text": [
      "Features shape: (203, 136)\n",
      "Labels shape: (203,)\n"
     ]
    }
   ],
   "metadata": {}
  },
  {
   "cell_type": "markdown",
   "source": [
    "# Model 1 (optional)\n",
    "This is the first experiment."
   ],
   "metadata": {}
  },
  {
   "cell_type": "code",
   "execution_count": 18,
   "source": [
    "firstmodel = tf.keras.Sequential([\n",
    "    tf.keras.layers.Dense(68, activation='relu', input_shape=(136,)),\n",
    "    tf.keras.layers.Dense(3)\n",
    "])\n",
    "\n",
    "firstmodel.compile(\n",
    "    optimizer='adam',\n",
    "    loss='sparse_categorical_crossentropy',\n",
    "    metrics=['accuracy']\n",
    ")\n",
    "\n",
    "firstmodel.fit(dftrain, y_train, epochs=2, batch_size=len(dftrain))"
   ],
   "outputs": [
    {
     "output_type": "stream",
     "name": "stdout",
     "text": [
      "Epoch 1/2\n",
      "WARNING:tensorflow:5 out of the last 17 calls to <function Model.make_train_function.<locals>.train_function at 0x7f5bb028b820> triggered tf.function retracing. Tracing is expensive and the excessive number of tracings could be due to (1) creating @tf.function repeatedly in a loop, (2) passing tensors with different shapes, (3) passing Python objects instead of tensors. For (1), please define your @tf.function outside of the loop. For (2), @tf.function has experimental_relax_shapes=True option that relaxes argument shapes that can avoid unnecessary retracing. For (3), please refer to https://www.tensorflow.org/guide/function#controlling_retracing and https://www.tensorflow.org/api_docs/python/tf/function for  more details.\n",
      "1/1 [==============================] - 1s 981ms/step - loss: 1.5233 - accuracy: 0.1970\n",
      "Epoch 2/2\n",
      "1/1 [==============================] - 0s 8ms/step - loss: 1.1663 - accuracy: 0.1970\n"
     ]
    },
    {
     "output_type": "execute_result",
     "data": {
      "text/plain": [
       "<keras.callbacks.History at 0x7f5bb01ef3d0>"
      ]
     },
     "metadata": {},
     "execution_count": 18
    }
   ],
   "metadata": {}
  }
 ],
 "metadata": {
  "orig_nbformat": 4,
  "language_info": {
   "name": "python",
   "version": "3.8.10",
   "mimetype": "text/x-python",
   "codemirror_mode": {
    "name": "ipython",
    "version": 3
   },
   "pygments_lexer": "ipython3",
   "nbconvert_exporter": "python",
   "file_extension": ".py"
  },
  "kernelspec": {
   "name": "python3",
   "display_name": "Python 3.8.10 64-bit"
  },
  "interpreter": {
   "hash": "916dbcbb3f70747c44a77c7bcd40155683ae19c65e1c03b4aa3499c5328201f1"
  }
 },
 "nbformat": 4,
 "nbformat_minor": 2
}