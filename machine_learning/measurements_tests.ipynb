{
 "cells": [
  {
   "cell_type": "markdown",
   "metadata": {},
   "source": [
    "# Machine learning tests with predetermined measurements are run here\n",
    "This notebook shows several experiments on the palsy dataset, using different types of machine learning algorithms.\n",
    "\n",
    "The first code blocks always have to be run, the reset (all experiments) can be run individually when interested in a certain algorithm type."
   ]
  },
  {
   "cell_type": "markdown",
   "metadata": {},
   "source": [
    "## Imports and definitions\n",
    "Mandatory section.\n",
    "\n",
    "We start with importing some necessary packages and defning the function(s) used."
   ]
  },
  {
   "cell_type": "code",
   "execution_count": 1,
   "metadata": {},
   "outputs": [],
   "source": [
    "import numpy as np\n",
    "import matplotlib.pyplot as plt\n",
    "%matplotlib inline\n",
    "\n",
    "def print_confusion_matrix(matrix):\n",
    "    print(\"    p  c  h\")\n",
    "    print('p',matrix[0])\n",
    "    print('c',matrix[1])\n",
    "    print('h',matrix[2])\n"
   ]
  },
  {
   "cell_type": "markdown",
   "metadata": {},
   "source": [
    "## Make the dataset\n",
    "Mandatory section.\n",
    "\n",
    "Here, we make the dataset that we will use."
   ]
  },
  {
   "cell_type": "code",
   "execution_count": 2,
   "metadata": {},
   "outputs": [
    {
     "name": "stdout",
     "output_type": "stream",
     "text": [
      "**Dataset summary**\n",
      "(datapoints, features) = (202, 52)\n",
      "102 peripheral palsy\n",
      "40 central palsy\n",
      "60 healthy\n"
     ]
    }
   ],
   "source": [
    "# dataset settings:\n",
    "full_features = True\n",
    "\n",
    "# load the features\n",
    "x_train = np.load('ratio_dataset.npy',allow_pickle=True)\n",
    "# x_train = x_train.tolist()\n",
    "# x_train = np.delete(x_train,102,0) # remove the one broken datapoint\n",
    "x_train = np.delete(x_train,9,1)\n",
    "\n",
    "# load the corresponding labels\n",
    "y_train = np.load('labels.npy')\n",
    "y_train = np.delete(y_train,102,0) # remove the one broken datapoint\n",
    "\n",
    "# (potentially) discard some data\n",
    "if not full_features: \n",
    "    # leave out the chin landmarks for more significant data\n",
    "    x_train = x_train[:,34:]\n",
    "\n",
    "# define class names for use in printing predictions\n",
    "classes = {0:'peripheral palsy', 1:'central palsy', 2:'healthy'}\n",
    "count_classes = np.bincount(y_train)\n",
    "\n",
    "# print the size of the dataset\n",
    "print(\"**Dataset summary**\")\n",
    "print(\"(datapoints, features) =\", x_train.shape)\n",
    "print(count_classes[0], classes[0])\n",
    "print(count_classes[1], classes[1])\n",
    "print(count_classes[2], classes[2])"
   ]
  },
  {
   "cell_type": "markdown",
   "metadata": {},
   "source": [
    "## Model 1\n",
    "Optional section.\n",
    "\n",
    "This is the first experiment. \n",
    "A DNN is made with many different amounts of hidden layers and nodes. \n",
    "The final accuracy is printed using LOOCV."
   ]
  },
  {
   "cell_type": "code",
   "execution_count": null,
   "metadata": {},
   "outputs": [],
   "source": [
    "# source: adapted from https://www.freecodecamp.org/learn/machine-learning-with-python/\n",
    "\n",
    "# results: not-much-better-than-guessing accuracy. probably not enough datapoints available.\n",
    "\n",
    "# imports:\n",
    "import tensorflow as tf\n",
    "\n",
    "# use leave-one-out cross-validation to test the accuracy of the model\n",
    "correct = 0\n",
    "n = len(y_train)\n",
    "for i in range(len(y_train)):\n",
    "    # print(\"Run\", i+1, \"of\", len(dftrain))\n",
    "    x_test = x_train[i]\n",
    "    x_test = np.reshape(x_test, (1,-1))\n",
    "    y_test = y_train[i]\n",
    "    x_train_loocv = np.delete(x_train, i, 0)\n",
    "    y_train_loocv = np.delete(y_train, i, 0)\n",
    "    model1 = tf.keras.Sequential([\n",
    "        # tf.keras.layers.Dense(136, activation='relu'),\n",
    "        tf.keras.layers.Dense(108800, activation='relu'),\n",
    "        # tf.keras.layers.Dense(10880, activation='relu'),\n",
    "        tf.keras.layers.Dense(3, activation='sigmoid'),\n",
    "    ])\n",
    "\n",
    "    model1.compile(\n",
    "        optimizer = tf.keras.optimizers.Adam(),\n",
    "        loss = tf.keras.losses.SparseCategoricalCrossentropy(),\n",
    "        metrics = tf.keras.metrics.CategoricalAccuracy(),\n",
    "    )\n",
    "    model1.fit(x_train_loocv, y_train_loocv, epochs=1, verbose=0, batch_size=len(x_train_loocv), shuffle=True)\n",
    "    prediction = np.argmax(model1.predict(x_test))\n",
    "    # print(\"Prediction:\", classes[prediction.astype(int)])\n",
    "    # print(\"Actual:    \", classes[y_test.astype(int)])\n",
    "    if (prediction == y_test):\n",
    "        correct += 1\n",
    "print(\"accuracy =\", correct/n)"
   ]
  },
  {
   "cell_type": "markdown",
   "metadata": {},
   "source": [
    "## Model 2\n",
    "Optional section.\n",
    "\n",
    "This is the second experiment. A support vector machine (SVM) will be built."
   ]
  },
  {
   "cell_type": "code",
   "execution_count": 10,
   "metadata": {},
   "outputs": [],
   "source": [
    "# source: adapted from https://scikit-learn.org/stable/modules/svm.html#svm-classification\n",
    "\n",
    "# imports:\n",
    "from sklearn import svm\n",
    "\n",
    "# model settings:\n",
    "kernel = 'poly'\n",
    "degree = 20\n",
    "# weights = {0:0.5, 1:10.0, 2:1.5}\n",
    "weights = 'balanced'\n"
   ]
  },
  {
   "cell_type": "code",
   "execution_count": 11,
   "metadata": {},
   "outputs": [
    {
     "name": "stdout",
     "output_type": "stream",
     "text": [
      "accuracy = 0.6039603960396039\n",
      "    p  c  h\n",
      "p [52, 9, 0]\n",
      "c [35, 19, 9]\n",
      "h [15, 12, 51]\n"
     ]
    }
   ],
   "source": [
    "# single run\n",
    "\n",
    "# results: (using kernel='poly', degree=5, weights={0:0.5,10:1.,2:1.5})\n",
    "    # accuracy = 0.604\n",
    "\n",
    "# use leave-one-out cross-validation to test the accuracy of the model\n",
    "correct = 0\n",
    "confusion_matrix = [[0,0,0], [0,0,0], [0,0,0]]\n",
    "n = len(y_train)\n",
    "for i in range(len(y_train)):\n",
    "    x_test = x_train[i]\n",
    "    x_test = np.reshape(x_test, ([1,-1]))\n",
    "    y_test = y_train[i]\n",
    "    x_train_loocv = np.delete(x_train, i, 0)\n",
    "    y_train_loocv = np.delete(y_train, i, 0)\n",
    "    model2 = svm.SVC(kernel=kernel,degree=degree,class_weight=weights)\n",
    "    model2.fit(x_train_loocv, y_train_loocv)\n",
    "    prediction = model2.predict(x_test)\n",
    "    if (prediction == y_test):\n",
    "        correct += 1\n",
    "    confusion_matrix[prediction[0]][y_test] += 1\n",
    "print(\"accuracy =\", correct/n)\n",
    "print_confusion_matrix(confusion_matrix)\n",
    "\n"
   ]
  },
  {
   "cell_type": "markdown",
   "metadata": {},
   "source": [
    "## Model 3\n",
    "Optional section.\n",
    "\n",
    "This is the third experiment. \n",
    "This model uses a K-nearest neighbors (KNN) algorithm to classify the data."
   ]
  },
  {
   "cell_type": "code",
   "execution_count": null,
   "metadata": {},
   "outputs": [],
   "source": [
    "# source: adated from https://scikit-learn.org/stable/auto_examples/neighbors/plot_classification.html#sphx-glr-auto-examples-neighbors-plot-classification-py\n",
    "\n",
    "# results: (using n_neighbors=5, weight='distance')\n",
    "    # accuracy = .589\n",
    "\n",
    "# imports:\n",
    "from sklearn import neighbors\n",
    "\n",
    "# model settings:\n",
    "n_neighbors = 5\n",
    "weight = 'distance'\n",
    "\n",
    "# use leave-one-out cross-validation to test the accuracy of the model\n",
    "correct = 0\n",
    "confusion_matrix = [[0,0,0], [0,0,0], [0,0,0]]\n",
    "n = len(y_train)\n",
    "for i in range(len(y_train)):\n",
    "    x_test = x_train[i]\n",
    "    x_test = np.reshape(x_test, ([1,-1]))\n",
    "    y_test = y_train[i]\n",
    "    x_train_loocv = np.delete(x_train, i, 0)\n",
    "    y_train_loocv = np.delete(y_train, i, 0)\n",
    "    model3 = neighbors.KNeighborsClassifier(n_neighbors, weights=weight)\n",
    "    model3.fit(x_train_loocv, y_train_loocv)\n",
    "    prediction = model3.predict(x_test)\n",
    "    if (prediction == y_test):\n",
    "        correct += 1\n",
    "    confusion_matrix[prediction[0]][y_test] += 1\n",
    "print(\"accuracy =\", correct/n)\n",
    "print_confusion_matrix(confusion_matrix)"
   ]
  },
  {
   "cell_type": "markdown",
   "metadata": {},
   "source": [
    "## Model 4\n",
    "Optional section.\n",
    "\n",
    "This is the fourth experiment. \n",
    "A Random Forest classification system is used."
   ]
  },
  {
   "cell_type": "code",
   "execution_count": 15,
   "metadata": {},
   "outputs": [],
   "source": [
    "# source: adapted from https://scikit-learn.org/stable/modules/ensemble.html#forest\n",
    "\n",
    "# imports:\n",
    "from sklearn import ensemble\n",
    "\n",
    "# model settings:\n",
    "n_estimators = 100\n"
   ]
  },
  {
   "cell_type": "code",
   "execution_count": null,
   "metadata": {},
   "outputs": [],
   "source": [
    "# single run\n",
    "\n",
    "# results: (using n_estimators=100)\n",
    "    # accuracy = 0.851\n",
    "\n",
    "# use leave-one-out cross-validation to test the accuracy of the model\n",
    "correct = 0\n",
    "confusion_matrix = [[0,0,0], [0,0,0], [0,0,0]]\n",
    "n = len(y_train)\n",
    "for i in range(len(y_train)):\n",
    "    x_test = x_train[i]\n",
    "    x_test = np.reshape(x_test, ([1,-1]))\n",
    "    y_test = y_train[i]\n",
    "    x_train_loocv = np.delete(x_train, i, 0)\n",
    "    y_train_loocv = np.delete(y_train, i, 0)\n",
    "    model4 = ensemble.RandomForestClassifier(n_estimators,n_jobs=8)\n",
    "    model4.fit(x_train_loocv, y_train_loocv)\n",
    "    prediction = model4.predict(x_test)\n",
    "    if (prediction == y_test):\n",
    "        correct += 1\n",
    "    confusion_matrix[prediction[0]][y_test] += 1\n",
    "print(\"accuracy =\", correct/n)\n",
    "print_confusion_matrix(confusion_matrix)\n"
   ]
  },
  {
   "cell_type": "code",
   "execution_count": null,
   "metadata": {},
   "outputs": [],
   "source": [
    "# multiple runs\n",
    "\n",
    "# results: 0.85 from about n=75\n",
    "\n",
    "# settings:\n",
    "runs = 200\n",
    "savestate_present = False\n",
    "filename_savestate = 'accuracy_randomforest_measurements.npy'\n",
    "\n",
    "# restore from savestate or make new array\n",
    "if (savestate_present):\n",
    "    accuracy = np.load(filename_savestate)\n",
    "    accuracy = accuracy.tolist()\n",
    "else:\n",
    "    accuracy = []\n",
    "\n",
    "for n_estimators in range(len(accuracy)+1, runs):\n",
    "    # use leave-one-out cross-validation to test the accuracy of the model\n",
    "    print(\"Run\",n_estimators,\"of\",runs)\n",
    "    correct = 0\n",
    "    n = len(y_train)\n",
    "    for i in range(len(y_train)):\n",
    "        x_test = x_train[i]\n",
    "        x_test = np.reshape(x_test, ([1,-1]))\n",
    "        y_test = y_train[i]\n",
    "        x_train_loocv = np.delete(x_train, i, 0)\n",
    "        y_train_loocv = np.delete(y_train, i, 0)\n",
    "        model4 = ensemble.RandomForestClassifier(n_estimators, n_jobs=8)\n",
    "        model4.fit(x_train_loocv, y_train_loocv)\n",
    "        prediction = model4.predict(x_test)\n",
    "        if (prediction == y_test):\n",
    "            correct += 1\n",
    "    print(\"accuracy:\",correct/n)\n",
    "    accuracy.append(correct/n)\n",
    "\n",
    "    # save state for later continuance\n",
    "    np.save(filename_savestate, accuracy)\n"
   ]
  },
  {
   "cell_type": "code",
   "execution_count": 3,
   "metadata": {},
   "outputs": [
    {
     "data": {
      "text/plain": [
       "Text(0, 0.5, 'Testing Accuracy')"
      ]
     },
     "execution_count": 3,
     "metadata": {},
     "output_type": "execute_result"
    },
    {
     "data": {
      "image/png": "[encoded data removed]",
      "text/plain": [
       "<Figure size 432x288 with 1 Axes>"
      ]
     },
     "metadata": {
      "needs_background": "light"
     },
     "output_type": "display_data"
    }
   ],
   "source": [
    "filename_savestate = 'accuracy_randomforest_measurements.npy'\n",
    "accuracy = np.load(filename_savestate)\n",
    "plt.plot(range(1,len(accuracy)+1), accuracy)\n",
    "plt.xlabel('Value of n_estimators for Random Forest Classifier')\n",
    "plt.ylabel('Testing Accuracy')"
   ]
  },
  {
   "cell_type": "markdown",
   "metadata": {},
   "source": [
    "## Model 5\n",
    "Optional section.\n",
    "\n",
    "This is the fifth experiment. \n",
    "A Gaussian Naive Bayes model is built here."
   ]
  },
  {
   "cell_type": "code",
   "execution_count": null,
   "metadata": {},
   "outputs": [],
   "source": [
    "# source: adapted from https://scikit-learn.org/stable/modules/naive_bayes.html\n",
    "\n",
    "# results: (no specific settings for this model)\n",
    "    # accuracy = 0.807\n",
    "\n",
    "# imports:\n",
    "from sklearn import naive_bayes\n",
    "\n",
    "# model settings:\n",
    "\n",
    "# use leave-one-out cross-validation to test the accuracy of the model\n",
    "correct = 0\n",
    "confusion_matrix = [[0,0,0], [0,0,0], [0,0,0]]\n",
    "n = len(y_train)\n",
    "for i in range(len(y_train)):\n",
    "    x_test = x_train[i]\n",
    "    x_test = np.reshape(x_test, ([1,-1]))\n",
    "    y_test = y_train[i]\n",
    "    x_train_loocv = np.delete(x_train, i, 0)\n",
    "    y_train_loocv = np.delete(y_train, i, 0)\n",
    "    model5 = naive_bayes.GaussianNB()\n",
    "    model5.fit(x_train_loocv, y_train_loocv)\n",
    "    prediction = model5.predict(x_test)\n",
    "    if (prediction == y_test):\n",
    "        correct += 1\n",
    "    confusion_matrix[prediction[0]][y_test] += 1\n",
    "print(\"accuracy =\", correct/n)\n",
    "print_confusion_matrix(confusion_matrix)"
   ]
  },
  {
   "cell_type": "markdown",
   "metadata": {},
   "source": [
    "## Model 6\n",
    "Optional section.\n",
    "\n",
    "This is the sixth experiment. \n",
    "A decision tree is used in the following code block."
   ]
  },
  {
   "cell_type": "code",
   "execution_count": null,
   "metadata": {},
   "outputs": [],
   "source": [
    "# source: adapted from https://scikit-learn.org/stable/modules/tree.html#classification\n",
    "\n",
    "# results: (using depth=10)\n",
    "    # accuracy = 0.708\n",
    "\n",
    "# imports:\n",
    "from sklearn import tree\n",
    "\n",
    "# model settings:\n",
    "depth = 10\n",
    "\n",
    "# use leave-one-out cross-validation to test the accuracy of the model\n",
    "correct = 0\n",
    "confusion_matrix = [[0,0,0], [0,0,0], [0,0,0]]\n",
    "n = len(y_train)\n",
    "for i in range(len(y_train)):\n",
    "    x_test = x_train[i]\n",
    "    x_test = np.reshape(x_test, ([1,-1]))\n",
    "    y_test = y_train[i]\n",
    "    x_train_loocv = np.delete(x_train, i, 0)\n",
    "    y_train_loocv = np.delete(y_train, i, 0)\n",
    "    model6 = tree.DecisionTreeClassifier(max_depth=depth)\n",
    "    model6.fit(x_train_loocv, y_train_loocv)\n",
    "    prediction = model6.predict(x_test)\n",
    "    if (prediction == y_test):\n",
    "        correct += 1\n",
    "    confusion_matrix[prediction[0]][y_test] += 1\n",
    "print(\"Final accuracy =\", correct/n)\n",
    "print_confusion_matrix(confusion_matrix)"
   ]
  }
 ],
 "metadata": {
  "interpreter": {
   "hash": "916dbcbb3f70747c44a77c7bcd40155683ae19c65e1c03b4aa3499c5328201f1"
  },
  "kernelspec": {
   "display_name": "Python 3",
   "language": "python",
   "name": "python3"
  },
  "language_info": {
   "codemirror_mode": {
    "name": "ipython",
    "version": 3
   },
   "file_extension": ".py",
   "mimetype": "text/x-python",
   "name": "python",
   "nbconvert_exporter": "python",
   "pygments_lexer": "ipython3",
   "version": "3.8.2"
  },
  "orig_nbformat": 4
 },
 "nbformat": 4,
 "nbformat_minor": 2
}
